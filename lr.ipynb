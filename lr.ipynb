{
 "cells": [
  {
   "cell_type": "code",
   "id": "initial_id",
   "metadata": {
    "collapsed": true,
    "ExecuteTime": {
     "end_time": "2024-08-02T21:38:31.691496Z",
     "start_time": "2024-08-02T21:38:31.686513Z"
    }
   },
   "source": [
    "import torch\n",
    "from mpc import SupervisedParkingDataset, InitialStateFeasibilityDataset\n",
    "from torch.utils.data import DataLoader"
   ],
   "outputs": [],
   "execution_count": 10
  },
  {
   "metadata": {
    "ExecuteTime": {
     "end_time": "2024-08-02T21:37:45.195064Z",
     "start_time": "2024-08-02T21:37:45.188963Z"
    }
   },
   "cell_type": "code",
   "source": [
    "dataset = torch.load('/home/haitong/PycharmProjects/AA203-Homework/datas/2024-08-02_17-32-29/3_0.667_4320.pt')\n",
    "feasibility_data = torch.load('/home/haitong/PycharmProjects/AA203-Homework/datas/2024-08-02_17-32-29/feasibility.pt')"
   ],
   "id": "2422d93711449586",
   "outputs": [],
   "execution_count": 7
  },
  {
   "metadata": {
    "ExecuteTime": {
     "end_time": "2024-08-02T21:38:32.779985Z",
     "start_time": "2024-08-02T21:38:32.774930Z"
    }
   },
   "cell_type": "code",
   "source": [
    "data = DataLoader(dataset, batch_size=128, shuffle=True)\n",
    "feasibility_loader = DataLoader(feasibility_data, batch_size=128, shuffle=True)\n"
   ],
   "id": "f6912d7bc4072145",
   "outputs": [],
   "execution_count": 11
  },
  {
   "metadata": {
    "ExecuteTime": {
     "end_time": "2024-08-02T21:39:41.613758Z",
     "start_time": "2024-08-02T21:39:41.608989Z"
    }
   },
   "cell_type": "code",
   "source": "next(iter(feasibility_loader))",
   "id": "43ec95b18b35a2f3",
   "outputs": [
    {
     "data": {
      "text/plain": [
       "[tensor([[ 2.0000,  1.5000, -0.2618,  0.2618,  0.0000,  0.0000],\n",
       "         [ 3.5000,  1.5000,  0.2618, -0.2618,  0.0000,  0.0000],\n",
       "         [ 5.0000,  1.5000,  0.2618, -0.2618,  0.0000,  0.0000],\n",
       "         [ 3.5000,  1.5000, -0.2618,  0.2618,  0.0000,  0.0000],\n",
       "         [ 5.0000,  3.0000,  0.0000, -0.0000,  0.0000,  0.0000],\n",
       "         [ 5.0000,  1.5000, -0.2618,  0.2618,  0.0000,  0.0000],\n",
       "         [ 2.0000,  3.0000, -0.2618,  0.2618,  0.0000,  0.0000],\n",
       "         [ 5.0000,  0.0000,  0.2618, -0.2618,  0.0000,  0.0000],\n",
       "         [ 2.0000,  0.0000,  0.2618, -0.2618,  0.0000,  0.0000],\n",
       "         [ 2.0000,  1.5000,  0.0000, -0.0000,  0.0000,  0.0000],\n",
       "         [ 3.5000,  3.0000,  0.0000, -0.0000,  0.0000,  0.0000],\n",
       "         [ 2.0000,  0.0000, -0.2618,  0.2618,  0.0000,  0.0000],\n",
       "         [ 3.5000,  0.0000,  0.0000, -0.0000,  0.0000,  0.0000],\n",
       "         [ 2.0000,  1.5000,  0.2618, -0.2618,  0.0000,  0.0000],\n",
       "         [ 3.5000,  1.5000,  0.0000, -0.0000,  0.0000,  0.0000],\n",
       "         [ 3.5000,  0.0000, -0.2618,  0.2618,  0.0000,  0.0000],\n",
       "         [ 2.0000,  3.0000,  0.0000, -0.0000,  0.0000,  0.0000],\n",
       "         [ 3.5000,  0.0000,  0.2618, -0.2618,  0.0000,  0.0000],\n",
       "         [ 5.0000,  3.0000,  0.2618, -0.2618,  0.0000,  0.0000],\n",
       "         [ 5.0000,  3.0000, -0.2618,  0.2618,  0.0000,  0.0000],\n",
       "         [ 2.0000,  3.0000,  0.2618, -0.2618,  0.0000,  0.0000],\n",
       "         [ 5.0000,  0.0000,  0.0000, -0.0000,  0.0000,  0.0000],\n",
       "         [ 2.0000,  0.0000,  0.0000, -0.0000,  0.0000,  0.0000],\n",
       "         [ 5.0000,  0.0000, -0.2618,  0.2618,  0.0000,  0.0000],\n",
       "         [ 5.0000,  1.5000,  0.0000, -0.0000,  0.0000,  0.0000],\n",
       "         [ 3.5000,  3.0000,  0.2618, -0.2618,  0.0000,  0.0000],\n",
       "         [ 3.5000,  3.0000, -0.2618,  0.2618,  0.0000,  0.0000]],\n",
       "        dtype=torch.float64),\n",
       " tensor([[1.],\n",
       "         [1.],\n",
       "         [1.],\n",
       "         [1.],\n",
       "         [0.],\n",
       "         [1.],\n",
       "         [0.],\n",
       "         [1.],\n",
       "         [1.],\n",
       "         [1.],\n",
       "         [0.],\n",
       "         [1.],\n",
       "         [1.],\n",
       "         [1.],\n",
       "         [1.],\n",
       "         [1.],\n",
       "         [0.],\n",
       "         [1.],\n",
       "         [0.],\n",
       "         [0.],\n",
       "         [0.],\n",
       "         [1.],\n",
       "         [1.],\n",
       "         [1.],\n",
       "         [1.],\n",
       "         [0.],\n",
       "         [0.]], dtype=torch.float64)]"
      ]
     },
     "execution_count": 14,
     "metadata": {},
     "output_type": "execute_result"
    }
   ],
   "execution_count": 14
  }
 ],
 "metadata": {
  "kernelspec": {
   "display_name": "Python 3",
   "language": "python",
   "name": "python3"
  },
  "language_info": {
   "codemirror_mode": {
    "name": "ipython",
    "version": 2
   },
   "file_extension": ".py",
   "mimetype": "text/x-python",
   "name": "python",
   "nbconvert_exporter": "python",
   "pygments_lexer": "ipython2",
   "version": "2.7.6"
  }
 },
 "nbformat": 4,
 "nbformat_minor": 5
}
